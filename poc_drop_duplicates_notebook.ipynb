{
 "cells": [
  {
   "cell_type": "code",
   "execution_count": 30,
   "id": "1a9b9d13",
   "metadata": {},
   "outputs": [
    {
     "name": "stdout",
     "output_type": "stream",
     "text": [
      "The autoreload extension is already loaded. To reload it, use:\n",
      "  %reload_ext autoreload\n"
     ]
    }
   ],
   "source": [
    "import web_app.service.drive_api as drive_api\n",
    "import pandas as pd\n",
    "from google.oauth2.credentials import Credentials\n",
    "%load_ext autoreload\n",
    "%autoreload 2\n",
    "from IPython.core.interactiveshell import InteractiveShell\n",
    "InteractiveShell.ast_node_interactivity = 'all'"
   ]
  },
  {
   "cell_type": "code",
   "execution_count": 31,
   "id": "a622e14e",
   "metadata": {
    "scrolled": true
   },
   "outputs": [],
   "source": [
    "# If modifying these scopes, delete the file token.json.\n",
    "SCOPES = ['https://www.googleapis.com/auth/drive.metadata', 'https://www.googleapis.com/auth/drive']\n",
    "creds = Credentials.from_authorized_user_file(\"web_app/tokens/624183327206-p362uonjneih7us9u1d9eovd4uprv6q4.apps.googleusercontent.com.json\", SCOPES)\n"
   ]
  },
  {
   "cell_type": "code",
   "execution_count": 32,
   "id": "6e9d7258",
   "metadata": {
    "scrolled": false
   },
   "outputs": [
    {
     "data": {
      "text/plain": [
       "{'910b697c541242b3299da29f43a091e3': [<web_app.service.drive_api.DriveFile at 0x7fe2654431c0>],\n",
       " '62f0d2dadf409a6df3a7029aaf69ccda': [<web_app.service.drive_api.DriveFile at 0x7fe265443100>],\n",
       " '77e86b916cca7440e1d58f89320625c1': [<web_app.service.drive_api.DriveFile at 0x7fe2654432e0>],\n",
       " '0998bf0c5dcf5ebc8280ab277cdd2366': [<web_app.service.drive_api.DriveFile at 0x7fe265443130>],\n",
       " '0b895acac48e0781b236dafce83b92b1': [<web_app.service.drive_api.DriveFile at 0x7fe2627148e0>],\n",
       " '657a25ec800116db5b8904e59c0775d2': [<web_app.service.drive_api.DriveFile at 0x7fe262714940>],\n",
       " 'ff5f3c9e267fbf485a2335586c4a97ba': [<web_app.service.drive_api.DriveFile at 0x7fe2627147f0>],\n",
       " 'd783782d9ee710d7198ff725ad6a695d': [<web_app.service.drive_api.DriveFile at 0x7fe2627147c0>],\n",
       " '32e38bf9e3fb1f55f5b631eaa9153a74': [<web_app.service.drive_api.DriveFile at 0x7fe262714970>],\n",
       " '205ce8a085aab9b83bc9a401fb1047c8': [<web_app.service.drive_api.DriveFile at 0x7fe2627149a0>],\n",
       " '67ae46d3701b5d1825b159cb9ff492f9': [<web_app.service.drive_api.DriveFile at 0x7fe262714880>],\n",
       " '77123ab1d61e96a46fe9efe3d8aedd54': [<web_app.service.drive_api.DriveFile at 0x7fe262714910>],\n",
       " '3444d975a82e01fc828fe944a9bf97fd': [<web_app.service.drive_api.DriveFile at 0x7fe262714820>],\n",
       " 'ccccbab60964edce6b7c181b2232fcfc': [<web_app.service.drive_api.DriveFile at 0x7fe262714850>],\n",
       " '08636724ca82698051a75279e33abe23': [<web_app.service.drive_api.DriveFile at 0x7fe2627149d0>],\n",
       " '2370d3e34d9e3f8ffb92fded5cb406cd': [<web_app.service.drive_api.DriveFile at 0x7fe262714a00>],\n",
       " '8fc525b19c5ebfed83bafb50e41d9e01': [<web_app.service.drive_api.DriveFile at 0x7fe262714a30>,\n",
       "  <web_app.service.drive_api.DriveFile at 0x7fe262714a60>],\n",
       " '9c681ad9edf3e92a650b167ea15b3ead': [<web_app.service.drive_api.DriveFile at 0x7fe262714a90>],\n",
       " '5104f42dc87ef3dde92b7283e8977d3b': [<web_app.service.drive_api.DriveFile at 0x7fe262714ac0>],\n",
       " '7022e8d352cbad42cc2f890d73d81d18': [<web_app.service.drive_api.DriveFile at 0x7fe262714af0>],\n",
       " '9e878aa606c3b23d99bcc830cbb9053f': [<web_app.service.drive_api.DriveFile at 0x7fe262714b20>],\n",
       " '827059d13ce35a05a58275251a77e5c3': [<web_app.service.drive_api.DriveFile at 0x7fe262714b50>],\n",
       " 'e7c27db86cd17bd82e883273347866fa': [<web_app.service.drive_api.DriveFile at 0x7fe262714b80>],\n",
       " '001e58f144af573de5e2ec682f22c2a2': [<web_app.service.drive_api.DriveFile at 0x7fe262714bb0>],\n",
       " 'ebe432f38d88e0cd463b90c282d34d8a': [<web_app.service.drive_api.DriveFile at 0x7fe262714be0>],\n",
       " '57fa3443a94f8bee7695015fded53a7d': [<web_app.service.drive_api.DriveFile at 0x7fe262714c10>],\n",
       " '70b713e23f3e15afdf7b0d6cf20024b6': [<web_app.service.drive_api.DriveFile at 0x7fe262714c40>],\n",
       " 'e87538334bee88592c5bf531a9a145b7': [<web_app.service.drive_api.DriveFile at 0x7fe262714c70>],\n",
       " '1854a8f56e78fc874b28b9217a80cf4a': [<web_app.service.drive_api.DriveFile at 0x7fe262714ca0>],\n",
       " '893bdd4c583cd47e498aef9d67488397': [<web_app.service.drive_api.DriveFile at 0x7fe262714cd0>],\n",
       " '36cbb58a5cad85b2ffa6146b7b0a1714': [<web_app.service.drive_api.DriveFile at 0x7fe262714d00>],\n",
       " '11a010d73f35cdb29269810a7a1da2e8': [<web_app.service.drive_api.DriveFile at 0x7fe262714d30>],\n",
       " '385b1d402e4ee61d1ebde3a405af4165': [<web_app.service.drive_api.DriveFile at 0x7fe262714d60>],\n",
       " 'f08c6e1d2ba3095e91293d47bade854d': [<web_app.service.drive_api.DriveFile at 0x7fe262714d90>],\n",
       " 'e62801bb11aa70906960662582b362ea': [<web_app.service.drive_api.DriveFile at 0x7fe262714dc0>],\n",
       " 'a1db891dd9d1cf8c84289e28c5fc4281': [<web_app.service.drive_api.DriveFile at 0x7fe262714df0>],\n",
       " '22a23f1de38627d17b625cbb16929d2c': [<web_app.service.drive_api.DriveFile at 0x7fe262714e20>],\n",
       " 'ef3dc232d95a61f28e9fdb922a222c5d': [<web_app.service.drive_api.DriveFile at 0x7fe262714e50>],\n",
       " '771c25abb2379f7d9b5fbff83f24d808': [<web_app.service.drive_api.DriveFile at 0x7fe262714e80>],\n",
       " '62bb849b256b96dd9e43c635b62510f0': [<web_app.service.drive_api.DriveFile at 0x7fe262714eb0>],\n",
       " 'bd1141637f35cc3964ee8a48172ff919': [<web_app.service.drive_api.DriveFile at 0x7fe262714ee0>],\n",
       " 'da5f548e2f6606dd552e0a519b97fac9': [<web_app.service.drive_api.DriveFile at 0x7fe262714f10>],\n",
       " '00b54a146dc7648e5e472117fb59a915': [<web_app.service.drive_api.DriveFile at 0x7fe262714f40>],\n",
       " 'a996647fbe3359a336f75cd405b0be7a': [<web_app.service.drive_api.DriveFile at 0x7fe262714f70>],\n",
       " '4244a2e28c7b38151472ee7ebd720832': [<web_app.service.drive_api.DriveFile at 0x7fe262714fa0>],\n",
       " 'b42451c2e433f8a16ada4e4a740b262d': [<web_app.service.drive_api.DriveFile at 0x7fe262714fd0>],\n",
       " 'fb4999f7334b75521d62d8bedf4a97ae': [<web_app.service.drive_api.DriveFile at 0x7fe262719040>],\n",
       " 'c3294324e5dd48d169af3788523559d0': [<web_app.service.drive_api.DriveFile at 0x7fe262719070>]}"
      ]
     },
     "execution_count": 32,
     "metadata": {},
     "output_type": "execute_result"
    }
   ],
   "source": [
    "videos = drive_api.list_files(creds, query=drive_api.get_mime_type(\"videos\"))\n",
    "videos_duplicates = drive_api.get_duplicated_files_ids(videos)\n",
    "videos_duplicates"
   ]
  },
  {
   "cell_type": "code",
   "execution_count": null,
   "id": "38929a56",
   "metadata": {},
   "outputs": [],
   "source": []
  }
 ],
 "metadata": {
  "kernelspec": {
   "display_name": "Python 3",
   "language": "python",
   "name": "python3"
  },
  "language_info": {
   "codemirror_mode": {
    "name": "ipython",
    "version": 3
   },
   "file_extension": ".py",
   "mimetype": "text/x-python",
   "name": "python",
   "nbconvert_exporter": "python",
   "pygments_lexer": "ipython3",
   "version": "3.8.8"
  }
 },
 "nbformat": 4,
 "nbformat_minor": 5
}
